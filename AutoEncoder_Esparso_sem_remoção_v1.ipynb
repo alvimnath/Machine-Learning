{
 "cells": [
  {
   "cell_type": "markdown",
   "metadata": {
    "id": "iRFc92DXwzi9"
   },
   "source": [
    "# Usando o AutoEncoder Esparso para minimizar o sobreajuste nas tarefas de classificação com o emprego do AutoML\n",
    "\n",
    "Nathalia Alvim e Aderval Luna\n",
    "\n",
    "\n",
    "Agradecimento: Programa de Pós Graduação de Engenharia Química da Universidade do Estado do Rio de Janeiro (UERJ), 2025.\n",
    "\n"
   ]
  },
  {
   "cell_type": "markdown",
   "metadata": {
    "id": "C9OrHoKj204e"
   },
   "source": [
    "## Objetivos\n",
    "\n",
    "- AutoML\n",
    "\n",
    "- Evitar o overfitting\n",
    "\n",
    "- AutoEncoder Esparso"
   ]
  },
  {
   "cell_type": "markdown",
   "metadata": {
    "id": "YeFx6Wb53BLK"
   },
   "source": [
    "## Metodologia\n",
    "\n",
    "![image.png](data:image/png;base64,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)"
   ]
  },
  {
   "cell_type": "markdown",
   "metadata": {
    "id": "c5QqRd9OxVd_"
   },
   "source": [
    "## Banco de dados\n",
    "\n",
    "- Chemical Composition of Ceramic Samples\n",
    "\n",
    "- 17 variáveis\n",
    "\n",
    "- 88 amostras\n",
    "\n",
    "- 2 Clases (Body e Glaze)\n",
    "\n",
    "\n",
    "Link do dataset - https://archive.ics.uci.edu/dataset/583/chemical+composition+of+ceramic+samples"
   ]
  },
  {
   "cell_type": "markdown",
   "metadata": {
    "id": "VOaCJZc8VpSf"
   },
   "source": [
    "## Pacotes"
   ]
  },
  {
   "cell_type": "code",
   "execution_count": null,
   "metadata": {
    "colab": {
     "base_uri": "https://localhost:8080/"
    },
    "id": "WpYw-wU0aQy8",
    "outputId": "468eb592-4703-4c9a-f15d-60d28eb8eb52"
   },
   "outputs": [],
   "source": [
    "# Instalar o lazypredict\n",
    "!pip install lazypredict\n",
    "!pip install tensorflow\n",
    "!pip install --upgrade jupyter ipywidgets"
   ]
  },
  {
   "cell_type": "code",
   "execution_count": null,
   "metadata": {
    "id": "E9O3KFa5wlu_"
   },
   "outputs": [],
   "source": [
    "# Inserir os bancos do python:\n",
    "#Manipulação de dataset\n",
    "import pandas as pd\n",
    "import matplotlib.pyplot as plt\n",
    "import seaborn as sns\n",
    "import numpy as np\n",
    "from scipy.stats import shapiro, anderson\n",
    "#Modelagem\n",
    "from sklearn.preprocessing import MinMaxScaler\n",
    "from sklearn.model_selection import train_test_split, GridSearchCV, cross_val_score, StratifiedKFold, cross_validate\n",
    "from lazypredict.Supervised import LazyClassifier\n",
    "# Escolhendo o modelo (1) e as metricas de avaliação\n",
    "from sklearn.ensemble import AdaBoostClassifier\n",
    "from sklearn.metrics import accuracy_score, classification_report, confusion_matrix, roc_curve, auc\n",
    "from sklearn.tree import DecisionTreeClassifier\n",
    "#Escolhendo o modelo (2)\n",
    "from sklearn.ensemble import RandomForestClassifier\n",
    "#Modelo autoencoder\n",
    "from sklearn.neighbors import KNeighborsClassifier\n",
    "#Autoencoder\n",
    "import tensorflow as tf\n",
    "from tensorflow.keras.models import Model\n",
    "from tensorflow.keras.layers import Input, Dense\n",
    "from tensorflow.keras import regularizers\n",
    "import os\n",
    "import random"
   ]
  },
  {
   "cell_type": "markdown",
   "metadata": {
    "id": "k1J3m5cBSjVY"
   },
   "source": [
    "## Inserir o dataset\n",
    "\n",
    "O dataset deve ser carregado no servidor do colab."
   ]
  },
  {
   "cell_type": "code",
   "execution_count": null,
   "metadata": {
    "id": "pB8ZbPzcycP4"
   },
   "outputs": [],
   "source": [
    "# Inserir o banco de dados\n",
    "dataceramica = \"/workspaces/Machine-Learning/Chemical Composion of Ceramic.csv\"\n",
    "dataset = pd.read_csv(dataceramica)"
   ]
  },
  {
   "cell_type": "code",
   "execution_count": null,
   "metadata": {
    "colab": {
     "base_uri": "https://localhost:8080/"
    },
    "id": "FHvFe_Ex1jYG",
    "outputId": "3364fa72-7367-4c37-cfc9-b266244ccf0f"
   },
   "outputs": [],
   "source": [
    "# Visualizar as primeiras linhas do banco de dados\n",
    "print(dataset.head())"
   ]
  },
  {
   "cell_type": "markdown",
   "metadata": {
    "id": "RJYOQQKXSnat"
   },
   "source": [
    "## Análise Descritiva dos Dados"
   ]
  },
  {
   "cell_type": "code",
   "execution_count": null,
   "metadata": {
    "colab": {
     "base_uri": "https://localhost:8080/"
    },
    "id": "LV-et1QK1rhx",
    "outputId": "57d79c3a-d7cd-481d-a68e-34e32a234972"
   },
   "outputs": [],
   "source": [
    "# Transformar %m/m para ppm, são as colunas 3 até 10\n",
    "dataset.iloc[:, 2:10] = dataset.iloc[:, 2:10] * 10_000\n",
    "\n",
    "# Exibir o resultado\n",
    "print(\"Dataset atualizado:\")\n",
    "print(dataset.head())"
   ]
  },
  {
   "cell_type": "code",
   "execution_count": null,
   "metadata": {
    "colab": {
     "base_uri": "https://localhost:8080/"
    },
    "id": "JdUBUj6BP1K_",
    "outputId": "f3d4e395-9740-453e-bdc8-d51ac20044c3"
   },
   "outputs": [],
   "source": [
    "# Transforma todos os valores negativos em positivos\n",
    "dataset = dataset.applymap(lambda x: abs(x) if isinstance(x, (int, float)) else x)\n",
    "\n",
    "# Verificando se ainda há valores negativos\n",
    "negativos_restantes = (dataset.select_dtypes(include=[np.number]) < 0).sum().sum()\n",
    "print(f\"Total de valores negativos restantes: {negativos_restantes}\")"
   ]
  },
  {
   "cell_type": "markdown",
   "metadata": {
    "id": "_vPljaJM7M3W"
   },
   "source": [
    "As classes já estão balanceadas, são 44 amostras de body e 44 de glaze"
   ]
  },
  {
   "cell_type": "code",
   "execution_count": null,
   "metadata": {
    "colab": {
     "base_uri": "https://localhost:8080/"
    },
    "id": "qjhsY6x7_VZS",
    "outputId": "42198069-0abb-454d-8722-342a54af198b"
   },
   "outputs": [],
   "source": [
    "# Estatística descritiva\n",
    "# Selecionar apenas colunas numéricas\n",
    "cn = dataset.select_dtypes(include=['number'])\n",
    "\n",
    "# Verificar presença de valores NaN\n",
    "na_counts = cn.isna().sum()\n",
    "na_columns = na_counts[na_counts > 0]\n",
    "\n",
    "if not na_columns.empty:\n",
    "    print(\"\\n⚠️ Valores ausentes encontrados nas seguintes colunas:\")\n",
    "    print(na_columns)\n",
    "\n",
    "    print(\"\\n📍 Localização dos NaNs:\")\n",
    "    for col in na_columns.index:\n",
    "        print(f\"- {col}: índices com NaN → {cn[cn[col].isna()].index.tolist()}\")\n",
    "else:\n",
    "    print(\"\\n✅ Nenhum valor NaN encontrado nas colunas numéricas.\")\n",
    "\n",
    "# Calcular estatísticas\n",
    "media = cn.mean()\n",
    "mediana = cn.median()\n",
    "moda = cn.mode().iloc[0]  # Pega a primeira moda encontrada para cada coluna\n",
    "\n",
    "# Exibir resultados\n",
    "print(\"\\n📊 Média de cada coluna:\")\n",
    "print(media)\n",
    "\n",
    "print(\"\\n📊 Mediana de cada coluna:\")\n",
    "print(mediana)\n",
    "\n",
    "print(\"\\n📊 Moda de cada coluna:\")\n",
    "print(moda)"
   ]
  },
  {
   "cell_type": "markdown",
   "metadata": {
    "id": "YLMzmx3xSul0"
   },
   "source": [
    "### Boxplot"
   ]
  },
  {
   "cell_type": "code",
   "execution_count": null,
   "metadata": {
    "colab": {
     "base_uri": "https://localhost:8080/"
    },
    "id": "yYP02BnmAFq2",
    "outputId": "33cf03ea-b566-4813-c2f0-4fe8f5eafdd9"
   },
   "outputs": [],
   "source": [
    "# Gerar boxplot para visualizar a distribuição e possíveis outliers\n",
    "plt.figure(figsize=(10, 6))\n",
    "cn.boxplot()\n",
    "plt.title(\"Boxplot do Dataset\")\n",
    "plt.xlabel(\"Colunas\")\n",
    "plt.ylabel(\"Valores\")\n",
    "plt.xticks(rotation=45)\n",
    "plt.tight_layout()\n",
    "plt.show()"
   ]
  },
  {
   "cell_type": "code",
   "execution_count": null,
   "metadata": {
    "colab": {
     "base_uri": "https://localhost:8080/"
    },
    "id": "MiwyELRwAXJK",
    "outputId": "763ad5e6-6b72-42b3-9610-9071c6fe1c18"
   },
   "outputs": [],
   "source": [
    "# Gerar boxplots em pares para economizar espaço\n",
    "colunas = cn.columns\n",
    "num_colunas = len(colunas)\n",
    "\n",
    "# Iterar sobre as colunas em pares\n",
    "for i in range(0, num_colunas, 2):\n",
    "    # Configurar o subplot para 2 gráficos lado a lado\n",
    "    fig, axes = plt.subplots(1, 2, figsize=(12, 6))\n",
    "\n",
    "    # Primeiro boxplot\n",
    "    axes[0].boxplot(cn[colunas[i]].dropna(), vert=True, patch_artist=True)\n",
    "    axes[0].set_title(f\"Boxplot - {colunas[i]}\")\n",
    "    axes[0].set_xlabel(colunas[i])\n",
    "    axes[0].set_ylabel(\"Valores\")\n",
    "\n",
    "    # Segundo boxplot (se existir)\n",
    "    if i + 1 < num_colunas:\n",
    "        axes[1].boxplot(cn[colunas[i + 1]].dropna(), vert=True, patch_artist=True)\n",
    "        axes[1].set_title(f\"Boxplot - {colunas[i + 1]}\")\n",
    "        axes[1].set_xlabel(colunas[i + 1])\n",
    "        axes[1].set_ylabel(\"Valores\")\n",
    "    else:\n",
    "        # Remover o segundo subplot se não houver uma segunda coluna\n",
    "        fig.delaxes(axes[1])\n",
    "\n",
    "    # Ajustar o layout\n",
    "    plt.tight_layout()\n",
    "    plt.show()"
   ]
  },
  {
   "cell_type": "code",
   "execution_count": null,
   "metadata": {
    "colab": {
     "base_uri": "https://localhost:8080/"
    },
    "id": "Ta622vbfQhha",
    "outputId": "0a246958-bc50-4d12-a989-fa40e31d5c21"
   },
   "outputs": [],
   "source": [
    "# Inicializar dicionários para guardar os resultados\n",
    "outliers_info = []\n",
    "\n",
    "# Iterar sobre as colunas numéricas\n",
    "for col in cn.select_dtypes(include='number').columns:\n",
    "    # Remover valores nulos\n",
    "    data = cn[col].dropna()\n",
    "\n",
    "    # Calcular Q1, Q3 e IQR\n",
    "    Q1 = data.quantile(0.25)\n",
    "    Q3 = data.quantile(0.75)\n",
    "    IQR = Q3 - Q1\n",
    "    limite_inferior = Q1 - 1.5 * IQR\n",
    "    limite_superior = Q3 + 1.5 * IQR\n",
    "\n",
    "    # Identificar os outliers\n",
    "    outliers = data[(data < limite_inferior) | (data > limite_superior)]\n",
    "    total = len(data)\n",
    "    qtd_outliers = len(outliers)\n",
    "    perc_outliers = (qtd_outliers / total) * 100\n",
    "\n",
    "    # Armazenar os resultados\n",
    "    outliers_info.append({\n",
    "        \"Variável\": col,\n",
    "        \"Outliers\": qtd_outliers,\n",
    "        \"Porcentagem de outliers (%)\": round(perc_outliers, 2)\n",
    "    })\n",
    "\n",
    "# Criar DataFrame com os resultados\n",
    "df_outliers = pd.DataFrame(outliers_info)\n",
    "\n",
    "# Exibir a tabela\n",
    "print(df_outliers)"
   ]
  },
  {
   "cell_type": "markdown",
   "metadata": {
    "id": "kJaYCMBjSx9p"
   },
   "source": [
    "### Histograma"
   ]
  },
  {
   "cell_type": "code",
   "execution_count": null,
   "metadata": {
    "colab": {
     "base_uri": "https://localhost:8080/"
    },
    "id": "w8Zvb7LhRudc",
    "outputId": "b5debdb0-369b-4c54-d595-bc57c0e5845d"
   },
   "outputs": [],
   "source": [
    "# Iterar sobre as colunas em pares\n",
    "for i in range(0, num_colunas, 2):\n",
    "    fig, axes = plt.subplots(1, 2, figsize=(12, 5))\n",
    "\n",
    "    # Primeiro histograma\n",
    "    axes[0].hist(cn[colunas[i]].dropna(), bins=30, color='skyblue', edgecolor='black')\n",
    "    axes[0].set_title(f\"Histograma - {colunas[i]}\")\n",
    "    axes[0].set_xlabel(colunas[i])\n",
    "    axes[0].set_ylabel(\"Frequência\")\n",
    "\n",
    "    # Segundo histograma (se houver)\n",
    "    if i + 1 < num_colunas:\n",
    "        axes[1].hist(cn[colunas[i + 1]].dropna(), bins=30, color='salmon', edgecolor='black')\n",
    "        axes[1].set_title(f\"Histograma - {colunas[i + 1]}\")\n",
    "        axes[1].set_xlabel(colunas[i + 1])\n",
    "        axes[1].set_ylabel(\"Frequência\")\n",
    "    else:\n",
    "        fig.delaxes(axes[1])  # Remove o eixo extra se não houver segunda coluna\n",
    "\n",
    "    plt.tight_layout()\n",
    "    plt.show()"
   ]
  },
  {
   "cell_type": "markdown",
   "metadata": {
    "id": "WWUPV1iQS0a2"
   },
   "source": [
    "### Shapiro-Wilk e Anderson-Darling"
   ]
  },
  {
   "cell_type": "code",
   "execution_count": null,
   "metadata": {
    "colab": {
     "base_uri": "https://localhost:8080/"
    },
    "id": "Go1AmixzSddV",
    "outputId": "b6b79452-5b83-421e-9cc1-4d648af518ee"
   },
   "outputs": [],
   "source": [
    "# Armazenar os resultados\n",
    "resultados = []\n",
    "\n",
    "# Iterar sobre colunas numéricas\n",
    "for col in cn.select_dtypes(include='number').columns:\n",
    "    data = cn[col].dropna()\n",
    "\n",
    "    # Teste de Shapiro-Wilk (n < 5000 recomendado)\n",
    "    stat_shapiro, p_shapiro = shapiro(data)\n",
    "    normal_shapiro = 'Sim' if p_shapiro > 0.05 else 'Não'\n",
    "\n",
    "    # Teste de Anderson-Darling\n",
    "    result_anderson = anderson(data, dist='norm')\n",
    "    stat_anderson = result_anderson.statistic\n",
    "    crit_values = result_anderson.critical_values\n",
    "    significance = result_anderson.significance_level\n",
    "\n",
    "    # Verifica se a estatística está abaixo do valor crítico a 5%\n",
    "    lim_critico_5 = crit_values[significance.tolist().index(5.0)]\n",
    "    normal_anderson = 'Sim' if stat_anderson < lim_critico_5 else 'Não'\n",
    "\n",
    "    # Armazenar resultados\n",
    "    resultados.append({\n",
    "        'Variável': col,\n",
    "        'Shapiro-Wilk (p-valor)': round(p_shapiro, 4),\n",
    "        'Normal (Shapiro)?': normal_shapiro,\n",
    "        'Anderson-Darling (estatística)': round(stat_anderson, 4),\n",
    "        'Crítico 5%': round(lim_critico_5, 4),\n",
    "        'Normal (Anderson)?': normal_anderson\n",
    "    })\n",
    "\n",
    "# Criar DataFrame com os resultados\n",
    "df_normalidade = pd.DataFrame(resultados)\n",
    "\n",
    "# Exibir os resultados\n",
    "print(df_normalidade)"
   ]
  },
  {
   "cell_type": "markdown",
   "metadata": {
    "id": "yO9w6VNMExAz"
   },
   "source": [
    "### Mapa de Correlação\n",
    "\n",
    "**Spearman**:\n",
    "\n",
    "- Dados não lineares e não se preocupa com a distribuição normal dos dados e quando contém outliers\n"
   ]
  },
  {
   "cell_type": "code",
   "execution_count": null,
   "metadata": {
    "colab": {
     "base_uri": "https://localhost:8080/"
    },
    "id": "CRUB83EfDzlp",
    "outputId": "56d644e2-7e46-4009-c52b-06c9328e6d29"
   },
   "outputs": [],
   "source": [
    "# Mapa de correlação de Sperman\n",
    "# Calcular a matriz de correlação (coeficiente de Spearman)\n",
    "correlacao_spearman = cn.corr(method='spearman')\n",
    "\n",
    "# Gerar o mapa de calor\n",
    "plt.figure(figsize=(10, 8))\n",
    "sns.heatmap(correlacao_spearman, annot=True, cmap=\"coolwarm\", fmt=\".2f\", cbar=True, square=True)\n",
    "plt.title(\"Mapa de Correlação (Spearman)\")\n",
    "plt.show()"
   ]
  },
  {
   "cell_type": "code",
   "execution_count": null,
   "metadata": {
    "colab": {
     "base_uri": "https://localhost:8080/"
    },
    "id": "z2xfnE3YFKBA",
    "outputId": "71d2b877-227c-4ef2-f214-cd71db848ced"
   },
   "outputs": [],
   "source": [
    "# Função para selecionar pares de variáveis com correlação maior que 0.7 (em valor absoluto)\n",
    "def selecionar_variaveis_correlacao(correlacao, metodo):\n",
    "    correlacao_forte = []\n",
    "    for i in range(len(correlacao.columns)):\n",
    "        for j in range(i + 1, len(correlacao.columns)):\n",
    "            if abs(correlacao.iloc[i, j]) > 0.7:  # Critério de correlação > 0.7\n",
    "                correlacao_forte.append((correlacao.index[i], correlacao.columns[j], correlacao.iloc[i, j]))\n",
    "    return pd.DataFrame(correlacao_forte, columns=[\"Variável 1\", \"Variável 2\", f\"Correlação ({metodo})\"])\n",
    "\n",
    "# Selecionar pares de variáveis com correlação forte\n",
    "correlacao_forte_spearman = selecionar_variaveis_correlacao(correlacao_spearman, \"Spearman\")\n",
    "\n",
    "# Exibir os resultados\n",
    "print(\"\\nPares de variáveis com correlação forte (Spearman):\")\n",
    "print(correlacao_forte_spearman)"
   ]
  },
  {
   "cell_type": "markdown",
   "metadata": {
    "id": "RzQ4_s9sJWbX"
   },
   "source": [
    "Transformar variavél categórica alvo em variável binária\n",
    "\n",
    "**Body** - 0\n",
    "\n",
    "**Glaze** - 1"
   ]
  },
  {
   "cell_type": "code",
   "execution_count": null,
   "metadata": {
    "colab": {
     "base_uri": "https://localhost:8080/"
    },
    "id": "zG3CtgTzJhs-",
    "outputId": "e297a384-f0d1-47b5-8eb7-2ce9624809b0"
   },
   "outputs": [],
   "source": [
    "# Substituir \"Body\" por 0 e \"Glaze\" por 1 apenas na coluna 'Part'\n",
    "df = dataset.copy()\n",
    "df['Part'] = df['Part'].replace({'Body': 0, 'Glaze': 1})\n",
    "\n",
    "# Verificar o resultado\n",
    "print(df.head())\n"
   ]
  },
  {
   "cell_type": "code",
   "execution_count": null,
   "metadata": {
    "colab": {
     "base_uri": "https://localhost:8080/"
    },
    "id": "tqgZ57vHUGVW",
    "outputId": "c2885d5f-d9e0-44bb-fa6c-863d157901f3"
   },
   "outputs": [],
   "source": [
    "#Removendo a coluna Ceramic Name\n",
    "df.drop(columns=['Ceramic Name'], inplace=True)\n",
    "print(df.head())"
   ]
  },
  {
   "cell_type": "markdown",
   "metadata": {
    "id": "7WzD2pu0Jnvx"
   },
   "source": [
    "## Separação das variáveis teste e treino\n",
    "\n",
    "80% treino\n",
    "\n",
    "20% teste\n",
    "\n",
    "variável alvo - body ou glaze (part)"
   ]
  },
  {
   "cell_type": "code",
   "execution_count": null,
   "metadata": {
    "colab": {
     "base_uri": "https://localhost:8080/"
    },
    "id": "16N2FsHB7S4U",
    "outputId": "f63b32d7-d7b3-433b-f818-9d49fb5846a1"
   },
   "outputs": [],
   "source": [
    "# Normalização\n",
    "# Selecionar apenas as colunas numéricas para normalização\n",
    "colunas_numericas = df.select_dtypes(include=['number'])\n",
    "\n",
    "# Aplicar a normalização Min-Max\n",
    "scaler = MinMaxScaler()\n",
    "dados_normalizados = scaler.fit_transform(colunas_numericas)\n",
    "\n",
    "# Criar um novo DataFrame com os dados normalizados\n",
    "df_normalizado = pd.DataFrame(dados_normalizados, columns=colunas_numericas.columns)\n",
    "\n",
    "# Exibir os dados normalizados\n",
    "print(df_normalizado.head())\n",
    "\n",
    "# Adicionar colunas categóricas de volta, se necessário\n",
    "#colunas_categoricas = df.select_dtypes(exclude=['number'])\n",
    "#df_final = pd.concat([df_normalizado, colunas_categoricas.reset_index(drop=True)], axis=1)"
   ]
  },
  {
   "cell_type": "code",
   "execution_count": null,
   "metadata": {
    "colab": {
     "base_uri": "https://localhost:8080/"
    },
    "id": "gz6zMc6OKemk",
    "outputId": "4f79a581-19ac-4544-af84-29b43d3ac771"
   },
   "outputs": [],
   "source": [
    "# Separar as variáveis independentes (X) e dependente (y)\n",
    "X = df_normalizado.drop(columns=['Part'])  # Variáveis preditoras\n",
    "y = df_normalizado['Part']                 # Variável alvo\n",
    "\n",
    "# Dividir o dataset em treino e teste\n",
    "X_train, X_test, y_train, y_test = train_test_split(\n",
    "    X, y, test_size=0.2, random_state=42  # 20% para teste\n",
    ")\n",
    "\n",
    "# Exibir os tamanhos dos conjuntos\n",
    "print(f\"Tamanho do conjunto de treino: {X_train.shape[0]} linhas\")\n",
    "print(f\"Tamanho do conjunto de teste: {X_test.shape[0]} linhas\")"
   ]
  },
  {
   "cell_type": "markdown",
   "metadata": {
    "id": "iGLGp3e1ZZGx"
   },
   "source": [
    "Pela quantidade de amostras e variáveis não haverá redução de dimensionalidade e nem exclusão de variáveis com alta correlação e nem exclusão de outliers."
   ]
  },
  {
   "cell_type": "markdown",
   "metadata": {
    "id": "5fXiLECSVk1s"
   },
   "source": [
    "## Modelagem"
   ]
  },
  {
   "cell_type": "code",
   "execution_count": null,
   "metadata": {
    "colab": {
     "base_uri": "https://localhost:8080/",
     "height": 1000,
     "referenced_widgets": [
      "396ccc55b7cb49668a2ec1070c8aa3e5",
      "72872151b699476cb752472aa3130ec1",
      "c52b9601a44348978e5632435f991d06",
      "f0972307e60e4698b2208844db323aa7",
      "7a7f86aeadef4dd59bc5d8df494ae9c2",
      "e8f5666ea5ec40338e37a1e6150a55b8",
      "dcb1545d96dc4e36a953ca38e0741bbd",
      "5920993c405c48afb3bf322354ff93bb",
      "8e0c1d480131466e95f8a61fa4c25903",
      "540e16278ac049fab848fe2b72078211",
      "905273dbb68a4708b8d976391cc8c08e"
     ]
    },
    "id": "Vb43sLZSZqzJ",
    "outputId": "43cb645f-9b43-4c0d-c150-072d0ef248f7"
   },
   "outputs": [],
   "source": [
    "# Inicializar o LazyClassifier\n",
    "clf = LazyClassifier(verbose=0, ignore_warnings=True, custom_metric=None)\n",
    "\n",
    "# Ajustar e comparar modelos\n",
    "models, predictions = clf.fit(X_train, X_test, y_train, y_test)\n",
    "\n",
    "# Exibir os resultados\n",
    "print(models)\n"
   ]
  },
  {
   "cell_type": "code",
   "execution_count": null,
   "metadata": {
    "colab": {
     "base_uri": "https://localhost:8080/"
    },
    "id": "uK-xpo3Xa7DV",
    "outputId": "d9760db7-f6d0-4775-b394-b958b98e6129"
   },
   "outputs": [],
   "source": [
    "# Exibir os top 5 modelos\n",
    "print(models.head(5))"
   ]
  },
  {
   "cell_type": "markdown",
   "metadata": {
    "id": "P0yj0cCtV1et"
   },
   "source": [
    "### AdaBoostClassifier"
   ]
  },
  {
   "cell_type": "code",
   "execution_count": null,
   "metadata": {
    "id": "58WjGCpRcJn2"
   },
   "outputs": [],
   "source": [
    "# Inicializar e treinar o AdaBoostClassifier\n",
    "model = AdaBoostClassifier(n_estimators=25, random_state=42)  # Ajuste n_estimators conforme necessário\n",
    "model.fit(X_train, y_train)\n",
    "\n",
    "# Fazer previsões no conjunto de teste\n",
    "y_pred = model.predict(X_test)"
   ]
  },
  {
   "cell_type": "code",
   "execution_count": null,
   "metadata": {
    "colab": {
     "base_uri": "https://localhost:8080/"
    },
    "id": "I3S0Oxqeci9v",
    "outputId": "7a000f3b-3d8d-431b-8868-a037ea5ec1ed"
   },
   "outputs": [],
   "source": [
    "# Relatório de classificação detalhado\n",
    "print(\"\\nClassification Report:\\n\", classification_report(y_test, y_pred))"
   ]
  },
  {
   "cell_type": "code",
   "execution_count": null,
   "metadata": {
    "colab": {
     "base_uri": "https://localhost:8080/"
    },
    "id": "SDIlt4PqcoTf",
    "outputId": "05155af5-249e-4dfb-d9ed-5e3d0c2a1246"
   },
   "outputs": [],
   "source": [
    "# Matriz de confusão\n",
    "print(\"\\nConfusion Matrix:\\n\", confusion_matrix(y_test, y_pred))"
   ]
  },
  {
   "cell_type": "markdown",
   "metadata": {
    "id": "i_AFkqIReksH"
   },
   "source": [
    "### Permutando o conjunto de teste"
   ]
  },
  {
   "cell_type": "markdown",
   "metadata": {
    "id": "L8mcSpbJiKJ5"
   },
   "source": [
    "Body - 1\n",
    "Glaze - 0"
   ]
  },
  {
   "cell_type": "code",
   "execution_count": null,
   "metadata": {
    "colab": {
     "base_uri": "https://localhost:8080/"
    },
    "id": "igfVRkLjhzCN",
    "outputId": "7371197e-6bd0-4a65-ad8f-5a249a79a147"
   },
   "outputs": [],
   "source": [
    "# Criar uma cópia do dataset\n",
    "df_permutado = df.copy()\n",
    "\n",
    "# Inverter os valores apenas na coluna 'Part': 0 vira 1 e 1 vira 0\n",
    "df_permutado['Part'] = df_permutado['Part'].replace({0: 1, 1: 0})\n",
    "\n",
    "# Verificar o resultado\n",
    "print(df_permutado.head())"
   ]
  },
  {
   "cell_type": "code",
   "execution_count": null,
   "metadata": {
    "colab": {
     "base_uri": "https://localhost:8080/"
    },
    "id": "R2dfQ1kZiWGV",
    "outputId": "bd9d87a5-dc8b-4f72-9db9-c86cb1916d7f"
   },
   "outputs": [],
   "source": [
    "# Normalização\n",
    "# Selecionar apenas as colunas numéricas para normalização\n",
    "colunas_numericas_per = df_permutado.select_dtypes(include=['number'])\n",
    "\n",
    "# Aplicar a normalização Min-Max\n",
    "scaler = MinMaxScaler()\n",
    "dados_normalizados_per = scaler.fit_transform(colunas_numericas_per)\n",
    "\n",
    "# Criar um novo DataFrame com os dados normalizados\n",
    "df_normalizado_per = pd.DataFrame(dados_normalizados_per, columns=colunas_numericas_per.columns)\n",
    "\n",
    "# Exibir os dados normalizados\n",
    "print(df_normalizado_per.head())\n",
    "\n",
    "# Adicionar colunas categóricas de volta, se necessário\n",
    "#colunas_categoricas_per = df_permutado.select_dtypes(exclude=['number'])\n",
    "#df_final_per = pd.concat([df_normalizado_per, colunas_categoricas_per.reset_index(drop=True)], axis=1)"
   ]
  },
  {
   "cell_type": "code",
   "execution_count": null,
   "metadata": {
    "colab": {
     "base_uri": "https://localhost:8080/"
    },
    "id": "PalsqmaIjBn6",
    "outputId": "9dbf9225-3666-488f-babb-246e031ae415"
   },
   "outputs": [],
   "source": [
    "# Separar as variáveis independentes (X) e dependente (y)\n",
    "y_per = df_normalizado_per['Part']                 # Variável alvo\n",
    "\n",
    "# Dividir o dataset em treino e teste\n",
    "X_train, X_test, y_train_per, y_test_per = train_test_split(\n",
    "    X, y_per, test_size=0.2, random_state=42  # 20% para teste\n",
    ")\n",
    "\n",
    "# Exibir os tamanhos dos conjuntos\n",
    "print(f\"Tamanho do conjunto de treino: {X_train.shape[0]} linhas\")\n",
    "print(f\"Tamanho do conjunto de teste: {X_test.shape[0]} linhas\")"
   ]
  },
  {
   "cell_type": "code",
   "execution_count": null,
   "metadata": {
    "id": "ccbuW9t5WWzy"
   },
   "outputs": [],
   "source": [
    "# Inicializar e treinar o AdaBoostClassifier\n",
    "model = AdaBoostClassifier(n_estimators=25, random_state=42)  # Ajuste n_estimators conforme necessário\n",
    "model.fit(X_train, y_train_per)\n",
    "\n",
    "# Fazer previsões no conjunto de teste\n",
    "y_pred_per = model.predict(X_test)"
   ]
  },
  {
   "cell_type": "code",
   "execution_count": null,
   "metadata": {
    "colab": {
     "base_uri": "https://localhost:8080/"
    },
    "id": "Nrza6XDQWj6L",
    "outputId": "7ec8a7e2-a07a-49ba-cc20-134e0ba21cfe"
   },
   "outputs": [],
   "source": [
    "# Relatório de classificação detalhado\n",
    "print(\"\\nClassification Report:\\n\", classification_report(y_test_per, y_pred_per))"
   ]
  },
  {
   "cell_type": "code",
   "execution_count": null,
   "metadata": {
    "colab": {
     "base_uri": "https://localhost:8080/"
    },
    "id": "SOxTuebJWvtC",
    "outputId": "449d89e0-e242-47be-e71b-711eb78a4c20"
   },
   "outputs": [],
   "source": [
    "# Matriz de confusão\n",
    "print(\"\\nConfusion Matrix:\\n\", confusion_matrix(y_test_per, y_pred_per))"
   ]
  },
  {
   "cell_type": "markdown",
   "metadata": {
    "id": "aN1aPluKqdGY"
   },
   "source": [
    "###Random Forest\n",
    "\n",
    "Mais robusto e menos sujeito a overfitting"
   ]
  },
  {
   "cell_type": "code",
   "execution_count": null,
   "metadata": {
    "id": "nwMmkoLtq5Ls"
   },
   "outputs": [],
   "source": [
    "# Ajuste do modelo com hiperparâmetros ajustados\n",
    "model_2 = RandomForestClassifier(\n",
    "    n_estimators=15,  # Reduzir o número de árvores\n",
    "    max_depth=10,     # Limitar a profundidade das árvores\n",
    "    min_samples_split=10,  # Aumentar o número mínimo de amostras para dividir um nó\n",
    "    min_samples_leaf=4,    # Aumentar o número mínimo de amostras por folha\n",
    "    max_features=\"sqrt\",   # Limitar o número de características consideradas\n",
    "    random_state=42\n",
    ")\n",
    "\n",
    "model_2.fit(X_train, y_train)\n",
    "\n",
    "# Fazer previsões no conjunto de teste\n",
    "y_pred_2 = model_2.predict(X_test)"
   ]
  },
  {
   "cell_type": "code",
   "execution_count": null,
   "metadata": {
    "colab": {
     "base_uri": "https://localhost:8080/"
    },
    "id": "OsXUjWMErc34",
    "outputId": "696efe8f-bac0-4593-adc9-b9a09c8922b0"
   },
   "outputs": [],
   "source": [
    "# Relatório de classificação detalhado\n",
    "print(\"\\nClassification Report:\\n\", classification_report(y_test, y_pred_2))"
   ]
  },
  {
   "cell_type": "code",
   "execution_count": null,
   "metadata": {
    "colab": {
     "base_uri": "https://localhost:8080/"
    },
    "id": "mlyaoJIUrf-I",
    "outputId": "ea76e125-b3eb-4ffd-be3c-9d5e3028c453"
   },
   "outputs": [],
   "source": [
    "# Matriz de confusão\n",
    "print(\"\\nConfusion Matrix:\\n\", confusion_matrix(y_test, y_pred_2))"
   ]
  },
  {
   "cell_type": "markdown",
   "metadata": {
    "id": "sORefCKbsQ6C"
   },
   "source": [
    "### Permutação\n"
   ]
  },
  {
   "cell_type": "code",
   "execution_count": null,
   "metadata": {
    "id": "c-bzdSiNsba6"
   },
   "outputs": [],
   "source": [
    "# Criar o modelo RandomForestClassifier\n",
    "model_perm = RandomForestClassifier(\n",
    "    n_estimators=25,\n",
    "    random_state=42\n",
    ")\n",
    "\n",
    "# Treinar o modelo no conjunto permutado\n",
    "model_perm.fit(X_train, y_train_per)\n",
    "\n",
    "# Fazer previsões no conjunto de teste permutado\n",
    "y_pred_per_2 = model_perm.predict(X_test)"
   ]
  },
  {
   "cell_type": "code",
   "execution_count": null,
   "metadata": {
    "colab": {
     "base_uri": "https://localhost:8080/"
    },
    "id": "ddhESePRaheQ",
    "outputId": "18054035-7775-48e3-e328-3c4d17eeb5d4"
   },
   "outputs": [],
   "source": [
    "# Relatório de classificação detalhado\n",
    "print(\"\\nClassification Report:\\n\", classification_report(y_test_per, y_pred_per_2))"
   ]
  },
  {
   "cell_type": "code",
   "execution_count": null,
   "metadata": {
    "colab": {
     "base_uri": "https://localhost:8080/"
    },
    "id": "BMspP8aqauds",
    "outputId": "65616768-a278-48b5-f089-dfced1bd4033"
   },
   "outputs": [],
   "source": [
    "# Matriz de confusão\n",
    "print(\"\\nConfusion Matrix:\\n\", confusion_matrix(y_test_per, y_pred_per_2))"
   ]
  },
  {
   "cell_type": "markdown",
   "metadata": {
    "id": "KQWTpolJu-dr"
   },
   "source": [
    " O modelo está com um sobreajuste\n",
    "\n"
   ]
  },
  {
   "cell_type": "markdown",
   "metadata": {
    "id": "xVSFl2D1wqUT"
   },
   "source": [
    "##Autoencoder"
   ]
  },
  {
   "cell_type": "code",
   "execution_count": null,
   "metadata": {
    "id": "Slc-wEVSbLsh"
   },
   "outputs": [],
   "source": [
    "SEED = 42\n",
    "os.environ['PYTHONHASHSEED'] = str(SEED)\n",
    "os.environ['TF_DETERMINISTIC_OPS'] = '1'  # força operações determinísticas no TF\n",
    "\n",
    "random.seed(SEED)\n",
    "np.random.seed(SEED)\n",
    "tf.random.set_seed(SEED)"
   ]
  },
  {
   "cell_type": "code",
   "execution_count": null,
   "metadata": {
    "colab": {
     "base_uri": "https://localhost:8080/"
    },
    "id": "kBdHgdXuyvja",
    "outputId": "b57b5bad-4caa-4437-88bf-edad06435bb7"
   },
   "outputs": [],
   "source": [
    "# Definir a arquitetura do autoencoder esparso\n",
    "input_dim = X_train.shape[1]  # Número de features\n",
    "encoding_dim = 10  # Dimensão da camada latente\n",
    "l1_penalty = 1e-5  # Penalidade L1 para esparsidade (ajustável)\n",
    "\n",
    "# Camada de entrada\n",
    "input_layer = Input(shape=(input_dim,))\n",
    "# Camada de codificação com regularização L1\n",
    "encoded = Dense(encoding_dim, activation='relu',\n",
    "                activity_regularizer=regularizers.l1(l1_penalty))(input_layer)\n",
    "# Camada de decodificação\n",
    "decoded = Dense(input_dim, activation='sigmoid')(encoded)\n",
    "\n",
    "# Definir e compilar o autoencoder\n",
    "autoencoder = Model(input_layer, decoded)\n",
    "autoencoder.compile(optimizer='adam', loss='mean_squared_error')\n",
    "\n",
    "# Treinamento do autoencoder\n",
    "autoencoder.fit(X_train, X_train,\n",
    "                epochs=50,\n",
    "                batch_size=256,\n",
    "                shuffle=True,\n",
    "                validation_data=(X_test, X_test),\n",
    "                verbose=1)\n",
    "\n",
    "# Encoder separado para extrair representações latentes\n",
    "encoder = Model(input_layer, encoded)\n",
    "X_train_latent = encoder.predict(X_train)\n",
    "X_test_latent = encoder.predict(X_test)\n",
    "\n",
    "# Treinar modelo RandomForest com os dados latentes\n",
    "model_2 = RandomForestClassifier(n_estimators=15, max_depth=10,\n",
    "                                 min_samples_split=10, min_samples_leaf=4,\n",
    "                                 random_state=42)\n",
    "model_2.fit(X_train_latent, y_train)\n",
    "\n",
    "# Previsões e acurácia\n",
    "y_pred_2 = model_2.predict(X_test_latent)\n",
    "accuracy_2 = accuracy_score(y_test, y_pred_2)\n",
    "print(f\"Acurácia com autoencoder esparso: {accuracy_2:.4f}\")\n",
    "\n"
   ]
  },
  {
   "cell_type": "code",
   "execution_count": null,
   "metadata": {
    "colab": {
     "base_uri": "https://localhost:8080/"
    },
    "id": "m8fvVzA4cbP8",
    "outputId": "8cf91495-0d24-48fc-ac49-b86c14b72f9c"
   },
   "outputs": [],
   "source": [
    "#Novo conjunto de dados\n",
    "df_latent = pd.DataFrame(X_train_latent)\n",
    "print(\"\\nExemplo do novo conjunto de dados latentes (treino):\")\n",
    "print(df_latent.head())\n",
    "\n",
    "print(f\"Número de amostras no conjunto latente de treino: {X_train_latent.shape[0]}\")\n",
    "print(f\"Número de variáveis (features) latentes: {X_train_latent.shape[1]}\")"
   ]
  },
  {
   "cell_type": "markdown",
   "metadata": {
    "id": "Cq0ATFiTe3br"
   },
   "source": [
    "## Modelagem após autoencoder"
   ]
  },
  {
   "cell_type": "code",
   "execution_count": null,
   "metadata": {
    "colab": {
     "base_uri": "https://localhost:8080/",
     "height": 1000,
     "referenced_widgets": [
      "6f42fdb4e135474a90aa0184cbec4d90",
      "ae3c73377077454497f7bc7ad4236dd4",
      "5e7fba37aa094f58b9d7bb8295dd743d",
      "0030ff64928746b38598aebd22504683",
      "2d470bbbe8bd4920b16b213ebae049da",
      "df4184b4d38f4d0b84103d56f71381cb",
      "6cc4dc0289c044c7a9dd168ced97e837",
      "83665a7f33e9441c8a51c56f245284be",
      "39c9f9a0b765466e90f9e3ad7d304a90",
      "8c34d090076247f2a37df9ed02382ae3",
      "cfe5fe96ea404263b85d055ffb8e8774"
     ]
    },
    "id": "o8SnuHY7eHW9",
    "outputId": "e37ea5e4-64c2-428a-fb8d-91db47d658db"
   },
   "outputs": [],
   "source": [
    "# Criar o LazyClassifier\n",
    "clf = LazyClassifier(verbose=1, ignore_warnings=True, custom_metric=accuracy_score, random_state=42)\n",
    "\n",
    "# Treinar e testar modelos nos dados latentes\n",
    "models, predictions = clf.fit(X_train_latent, X_test_latent, y_train, y_test)\n",
    "\n",
    "# Exibir os resultados\n",
    "print(\"\\nResultados do LazyClassifier com representações latentes:\")\n",
    "print(models)"
   ]
  },
  {
   "cell_type": "code",
   "execution_count": null,
   "metadata": {
    "colab": {
     "base_uri": "https://localhost:8080/"
    },
    "id": "TYzXO4LZ1CLu",
    "outputId": "080c235d-8ea6-4cd9-f5cb-11ed2fe5a3ea"
   },
   "outputs": [],
   "source": [
    "# Mostrar os 5 primeiros\n",
    "print(models.head(5))"
   ]
  },
  {
   "cell_type": "markdown",
   "metadata": {
    "id": "in-AXZKSLeGB"
   },
   "source": [
    "### KNN"
   ]
  },
  {
   "cell_type": "code",
   "execution_count": null,
   "metadata": {
    "colab": {
     "base_uri": "https://localhost:8080/"
    },
    "id": "7r1Vh5SLLqLQ",
    "outputId": "8ee9e869-211d-4372-bc94-e3f624c08ce7"
   },
   "outputs": [],
   "source": [
    "# Inicializar e treinar o modelo KNN\n",
    "model_1 = KNeighborsClassifier(n_neighbors=5)  # você pode ajustar esse valor depois com otimização\n",
    "model_1.fit(X_train_latent, y_train)\n",
    "\n",
    "# Fazer previsões no conjunto de teste\n",
    "y_pred_autoencoder = model_1.predict(X_test_latent)\n",
    "\n",
    "# Relatório de classificação\n",
    "print(\"\\nClassification Report:\\n\", classification_report(y_test, y_pred_autoencoder))"
   ]
  },
  {
   "cell_type": "markdown",
   "metadata": {
    "id": "0nymx7z1tayn"
   },
   "source": [
    "**UTILIZANDO APENAS O KneighborsClassifier**"
   ]
  },
  {
   "cell_type": "markdown",
   "metadata": {
    "id": "EI_bI7YT1Fij"
   },
   "source": [
    "## Matriz de confusão, curva ROC"
   ]
  },
  {
   "cell_type": "code",
   "execution_count": null,
   "metadata": {
    "colab": {
     "base_uri": "https://localhost:8080/"
    },
    "id": "AExNcrg81E8z",
    "outputId": "faa39c76-5c90-4544-9f62-1c78e76b5844"
   },
   "outputs": [],
   "source": [
    "# 1. Matriz de Confusão LabelPropagation\n",
    "conf_matrix = confusion_matrix(y_test, y_pred_autoencoder)\n",
    "print(\"Matriz de Confusão:\")\n",
    "print(conf_matrix)"
   ]
  },
  {
   "cell_type": "code",
   "execution_count": null,
   "metadata": {
    "colab": {
     "base_uri": "https://localhost:8080/",
     "height": 507
    },
    "id": "YrloYsZi_5Am",
    "outputId": "5058c5bb-96c4-43a3-f887-f96ebbfce879"
   },
   "outputs": [],
   "source": [
    "# Plot da matriz de confusão\n",
    "plt.figure(figsize=(6, 5))\n",
    "sns.heatmap(conf_matrix, annot=True, fmt='d', cmap='Blues',\n",
    "           xticklabels=['Body', 'Glaze'],\n",
    "            yticklabels=['Body', 'Glaze'])\n",
    "\n",
    "plt.title('Matriz de Confusão - KNN')\n",
    "plt.xlabel('Previsto')\n",
    "plt.ylabel('Real')\n",
    "plt.tight_layout()\n",
    "plt.show()"
   ]
  },
  {
   "cell_type": "code",
   "execution_count": null,
   "metadata": {
    "colab": {
     "base_uri": "https://localhost:8080/",
     "height": 582
    },
    "id": "hZTiH-3u1vmp",
    "outputId": "10d2cf96-7609-4a85-90ad-b65ed188de8b"
   },
   "outputs": [],
   "source": [
    "# 3. Curva ROC e AUC\n",
    "# Probabilidades preditas para a classe positiva (assumindo que y_test é binário)\n",
    "y_prob = model_1.predict_proba(X_test_latent)[:, 1]\n",
    "\n",
    "# Calcular fpr, tpr e thresholds para a curva ROC\n",
    "fpr, tpr, thresholds = roc_curve(y_test, y_prob)\n",
    "roc_auc = auc(fpr, tpr)\n",
    "\n",
    "# Plotar a Curva ROC\n",
    "plt.figure(figsize=(8, 6))\n",
    "plt.plot(fpr, tpr, color='darkorange', lw=2, label=f'ROC curve (AUC = {roc_auc:.2f})')\n",
    "plt.plot([0, 1], [0, 1], color='navy', lw=2, linestyle='--')\n",
    "plt.xlim([0.0, 1.0])\n",
    "plt.ylim([0.0, 1.05])\n",
    "plt.xlabel('False Positive Rate')\n",
    "plt.ylabel('True Positive Rate')\n",
    "plt.title('Receiver Operating Characteristic (ROC) Curve')\n",
    "plt.legend(loc='lower right')\n",
    "plt.show()\n",
    "\n",
    "# Exibir a AUC\n",
    "print(f\"AUC: {roc_auc:.4f}\")"
   ]
  },
  {
   "cell_type": "markdown",
   "metadata": {
    "id": "kNoEpJLlqaIb"
   },
   "source": [
    "## Permutação"
   ]
  },
  {
   "cell_type": "code",
   "execution_count": null,
   "metadata": {
    "colab": {
     "base_uri": "https://localhost:8080/"
    },
    "id": "E31jiJe2sZSx",
    "outputId": "a2f4d7b9-86b0-4e82-8d1b-a14dcaa4850a"
   },
   "outputs": [],
   "source": [
    "# Treinar o modelo com os dados permutados\n",
    "model_1.fit(X_train_latent, y_train_per)\n",
    "\n",
    "# Fazer previsões no conjunto de teste\n",
    "y_pred_permuted = model_1.predict(X_test_latent)\n",
    "\n",
    "# Relatório de classificação detalhado\n",
    "print(\"\\nClassification Report:\\n\", classification_report(y_test, y_pred_permuted))"
   ]
  },
  {
   "cell_type": "code",
   "execution_count": null,
   "metadata": {
    "colab": {
     "base_uri": "https://localhost:8080/"
    },
    "id": "OlSjUnnNtOOK",
    "outputId": "24b2d5ac-bb4a-4b41-8d73-6d4c8637f3b5"
   },
   "outputs": [],
   "source": [
    "# 1. Matriz de Confusão KNN Permutado\n",
    "conf_matrix_per = confusion_matrix(y_test, y_pred_permuted)\n",
    "print(\"Matriz de Confusão:\")\n",
    "print(conf_matrix_per)"
   ]
  },
  {
   "cell_type": "code",
   "execution_count": null,
   "metadata": {
    "colab": {
     "base_uri": "https://localhost:8080/",
     "height": 507
    },
    "id": "xzVN3w8NA8ck",
    "outputId": "bc769d48-e520-43d5-93e7-6b3b6922652f"
   },
   "outputs": [],
   "source": [
    "# Plot da matriz de confusão\n",
    "plt.figure(figsize=(6, 5))\n",
    "sns.heatmap(conf_matrix_per, annot=True, fmt='d', cmap='Blues',\n",
    "           xticklabels=['Body', 'Glaze'],\n",
    "            yticklabels=['Body', 'Glaze'])\n",
    "\n",
    "plt.title('Matriz de Confusão - KNN')\n",
    "plt.xlabel('Previsto')\n",
    "plt.ylabel('Real')\n",
    "plt.tight_layout()\n",
    "plt.show()"
   ]
  },
  {
   "cell_type": "code",
   "execution_count": null,
   "metadata": {
    "colab": {
     "base_uri": "https://localhost:8080/"
    },
    "id": "Y8naluvoutmA",
    "outputId": "d7556289-d51d-4bca-e983-6319d9fe3b16"
   },
   "outputs": [],
   "source": [
    "# Inverter as probabilidades preditas\n",
    "y_prob_invertido = 1 - y_prob\n",
    "\n",
    "# Recalcular a curva ROC\n",
    "fpr_inv, tpr_inv, _ = roc_curve(y_test, y_prob_invertido)\n",
    "roc_auc_inv = auc(fpr_inv, tpr_inv)\n",
    "\n",
    "print(f\"AUC invertido: {roc_auc_inv:.4f}\")"
   ]
  }
 ],
 "metadata": {
  "colab": {
   "provenance": []
  },
  "kernelspec": {
   "display_name": "Python 3",
   "name": "python3"
  },
  "language_info": {
   "codemirror_mode": {
    "name": "ipython",
    "version": 3
   },
   "file_extension": ".py",
   "mimetype": "text/x-python",
   "name": "python",
   "nbconvert_exporter": "python",
   "pygments_lexer": "ipython3",
   "version": "3.12.1"
  }
 },
 "nbformat": 4,
 "nbformat_minor": 0
}
